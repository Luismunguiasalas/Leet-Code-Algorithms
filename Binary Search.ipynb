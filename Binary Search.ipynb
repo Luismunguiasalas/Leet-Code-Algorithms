{
 "cells": [
  {
   "cell_type": "code",
   "execution_count": null,
   "metadata": {},
   "outputs": [],
   "source": [
    "# 704. Binary Search\n",
    "# Given an array of integers nums which is sorted in ascending order, and an integer target, write a function to search target in nums. If target exists, then return its index. Otherwise, return -1.\n",
    "# You must write an algorithm with O(log n) runtime complexity.\n",
    "\n",
    "\n",
    "class Solution:\n",
    "    def search(self, nums: List[int], target: int) -> int:\n",
    "        left_index = 0\n",
    "        right_index = len(nums) - 1\n",
    "        while left_index <= right_index:\n",
    "            middle = left_index + (right_index - left_index) // 2\n",
    "            if nums[middle] == target:\n",
    "                return middle\n",
    "            elif nums[middle] > target:\n",
    "                right_index = middle - 1\n",
    "            else:\n",
    "                left_index = middle + 1\n",
    "        return -1\n",
    "  \n",
    "  # time O(logn) space O(1)\n",
    "  # runtime: 252ms, beats 84%\n",
    "  # memory: 15MB, beats 24%"
   ]
  }
 ],
 "metadata": {
  "language_info": {
   "name": "python"
  },
  "orig_nbformat": 4
 },
 "nbformat": 4,
 "nbformat_minor": 2
}
