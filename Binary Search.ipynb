{
 "cells": [
  {
   "cell_type": "code",
   "execution_count": null,
   "metadata": {},
   "outputs": [],
   "source": [
    "# 704. Binary Search\n",
    "# Given an array of integers nums which is sorted in ascending order, and an integer target, write a function to search target in nums. If target exists, then return its index. Otherwise, return -1.\n",
    "# You must write an algorithm with O(log n) runtime complexity.\n",
    "\n",
    "\n",
    "class Solution:\n",
    "    def search(self, nums: List[int], target: int) -> int:\n",
    "        left_index = 0\n",
    "        right_index = len(nums) - 1\n",
    "        while left_index <= right_index:\n",
    "            middle = left_index + (right_index - left_index) // 2\n",
    "            if nums[middle] == target:\n",
    "                return middle\n",
    "            elif nums[middle] > target:\n",
    "                right_index = middle - 1\n",
    "            else:\n",
    "                left_index = middle + 1\n",
    "        return -1\n",
    "  \n",
    "  # time O(logn) space O(1)\n",
    "  # runtime: 252ms, beats 84%\n",
    "  # memory: 15MB, beats 24%"
   ]
  },
  {
   "cell_type": "code",
   "execution_count": null,
   "metadata": {},
   "outputs": [],
   "source": [
    "# 278. First Bad Version\n",
    "\n",
    "# You are a product manager and currently leading a team to develop a new product. Unfortunately, the latest version of your product fails the quality check. Since each version is developed based on the previous version, all the versions after a bad version are also bad.\n",
    "\n",
    "# Suppose you have n versions [1, 2, ..., n] and you want to find out the first bad one, which causes all the following ones to be bad.\n",
    "\n",
    "# You are given an API bool isBadVersion(version) which returns whether version is bad. Implement a function to find the first bad version. You should minimize the number of calls to the API.\n",
    "\n",
    "class Solution:\n",
    "    def firstBadVersion(self, n: int) -> int:\n",
    "        left = 1\n",
    "        right = n\n",
    "        while left < right:\n",
    "            middle = left + (right - left) // 2\n",
    "            if isBadVersion(middle):\n",
    "                if isBadVersion(middle - 1) == False:\n",
    "                    return middle\n",
    "                right = middle\n",
    "            else:\n",
    "                if isBadVersion(middle + 1):\n",
    "                    return middle + 1\n",
    "                left = middle + 1\n",
    "        return left\n",
    "  \n",
    "  # time O(logn) space(1)\n",
    "  # runtime: 29ms, beats 90%\n",
    "  # memory: 13MB, beats 97%"
   ]
  },
  {
   "cell_type": "code",
   "execution_count": null,
   "metadata": {},
   "outputs": [],
   "source": [
    "# 35. Search Insert Position\n",
    "\n",
    "# Given a sorted array of distinct integers and a target value, return the index if the target is found. If not, return the index where it would be if it were inserted in order.\n",
    "\n",
    "# You must write an algorithm with O(log n) runtime complexity.\n",
    "\n",
    "class Solution:\n",
    "    def searchInsert(self, nums: List[int], target: int) -> int:\n",
    "        left = 0\n",
    "        right = len(nums) - 1\n",
    "        while left <= right:\n",
    "            middle = left + (right - left) // 2\n",
    "            if nums[middle] == target:\n",
    "                return middle\n",
    "            elif nums[middle] > target:\n",
    "                right = middle - 1\n",
    "            else:\n",
    "                left = middle + 1\n",
    "        return left  \n",
    "      \n",
    "# time O(logn) space O(1)\n",
    "# runtime: 58ms, 71%\n",
    "# space: 14MB, 39%"
   ]
  }
 ],
 "metadata": {
  "language_info": {
   "name": "python"
  },
  "orig_nbformat": 4
 },
 "nbformat": 4,
 "nbformat_minor": 2
}
