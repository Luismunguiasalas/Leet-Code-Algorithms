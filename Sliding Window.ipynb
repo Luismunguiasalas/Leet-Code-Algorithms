{
 "cells": [
  {
   "cell_type": "code",
   "execution_count": null,
   "metadata": {},
   "outputs": [],
   "source": [
    "# 3. Longest Substring Without Repeating Characters\n",
    "# Given a string s, find the length of the longest \n",
    "# substring\n",
    "#  without repeating characters.\n",
    "\n",
    "class Solution:\n",
    "    def lengthOfLongestSubstring(self, s: str) -> int:\n",
    "        temp_arr = []\n",
    "        longest_substring = 0\n",
    "\n",
    "        for character in s:\n",
    "            if character in temp_arr:\n",
    "                longest_substring = max(longest_substring, len(temp_arr))\n",
    "                if character == temp_arr[0]:\n",
    "                    temp_arr = temp_arr[1:]\n",
    "                else:\n",
    "                    index_of_duplicate_character = temp_arr.index(character)\n",
    "                    temp_arr = temp_arr[index_of_duplicate_character + 1:]\n",
    "            temp_arr.append(character)\n",
    "        longest_substring = max(longest_substring, len(temp_arr))\n",
    "        return longest_substring\n",
    "      \n",
    "\n",
    "# O(n) time, space O(n)\n",
    "# runtime: 64ms, beats 87%\n",
    "\n",
    "\n"
   ]
  },
  {
   "cell_type": "code",
   "execution_count": null,
   "metadata": {},
   "outputs": [],
   "source": [
    "# 567. Permutation in String\n",
    "# Given two strings s1 and s2, return true if s2 contains a permutation of s1, or false otherwise.\n",
    "\n",
    "# In other words, return true if one of s1's permutations is the substring of s2.\n",
    "\n",
    "class Solution:\n",
    "    def checkInclusion(self, s1: str, s2: str) -> bool:\n",
    "      # if s1 is greater than s2, you cannot have a permutation\n",
    "        if len(s1) > len(s2):\n",
    "            return False\n",
    "      # create a dictionary, and store frequency of characters in it\n",
    "        cache = dict()\n",
    "        for char in s1:\n",
    "            if char not in cache:\n",
    "                cache[char] = 0\n",
    "            cache[char] += 1\n",
    "      # cache_length is needed to calculate the left side of window, the char that will be out of the windows scope\n",
    "      # and if that char matches existing char within cache, if so, it must be added + 1, because we are no longer using it.\n",
    "        cache_length = len(cache)  \n",
    "        s1_length = len(s1)\n",
    "      # if matched characters matches length of cache, then we have found a valid permutation\n",
    "        matched_characters = 0\n",
    "      # iterate through s2\n",
    "        for i in range(len(s2)):\n",
    "            if s2[i] in cache: # if found a char in cache, then subtract 1\n",
    "                cache[s2[i]] -= 1\n",
    "                if cache[s2[i]] == 0: # if char count == 0, then we have used up all of this character, meaning we can add a match + 1\n",
    "                    matched_characters += 1\n",
    "            if i >= s1_length and s2[i - s1_length] in cache: # if the character is outside of the sliding window (the left side)\n",
    "                if cache[s2[i - s1_length]] == 0: # and if the character exists in cache, then we must add char count + 1. It is no longer being used\n",
    "                    matched_characters -= 1       # match must be - 1, to account for this\n",
    "                cache[s2[i - s1_length]] += 1      \n",
    "            if matched_characters == cache_length:# if matches == cache length, then we have used up all characters and found valid permutation\n",
    "                return True\n",
    "        return False\n",
    "# time O(n), space O(1)\n",
    "# runtime: 64ms, beats 95% of python 3 submissions!\n"
   ]
  }
 ],
 "metadata": {
  "kernelspec": {
   "display_name": "base",
   "language": "python",
   "name": "python3"
  },
  "language_info": {
   "codemirror_mode": {
    "name": "ipython",
    "version": 3
   },
   "file_extension": ".py",
   "mimetype": "text/x-python",
   "name": "python",
   "nbconvert_exporter": "python",
   "pygments_lexer": "ipython3",
   "version": "3.9.13 (main, Aug 25 2022, 18:29:29) \n[Clang 12.0.0 ]"
  },
  "orig_nbformat": 4,
  "vscode": {
   "interpreter": {
    "hash": "40d3a090f54c6569ab1632332b64b2c03c39dcf918b08424e98f38b5ae0af88f"
   }
  }
 },
 "nbformat": 4,
 "nbformat_minor": 2
}
