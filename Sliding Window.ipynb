{
 "cells": [
  {
   "cell_type": "code",
   "execution_count": null,
   "metadata": {},
   "outputs": [],
   "source": [
    "# 3. Longest Substring Without Repeating Characters\n",
    "# Given a string s, find the length of the longest \n",
    "# substring\n",
    "#  without repeating characters.\n",
    "\n",
    "class Solution:\n",
    "    def lengthOfLongestSubstring(self, s: str) -> int:\n",
    "        temp_arr = []\n",
    "        longest_substring = 0\n",
    "\n",
    "        for character in s:\n",
    "            if character in temp_arr:\n",
    "                longest_substring = max(longest_substring, len(temp_arr))\n",
    "                if character == temp_arr[0]:\n",
    "                    temp_arr = temp_arr[1:]\n",
    "                else:\n",
    "                    index_of_duplicate_character = temp_arr.index(character)\n",
    "                    temp_arr = temp_arr[index_of_duplicate_character + 1:]\n",
    "            temp_arr.append(character)\n",
    "        longest_substring = max(longest_substring, len(temp_arr))\n",
    "        return longest_substring\n",
    "      \n",
    "\n",
    "# O(n) time, space O(n)\n",
    "# runtime: 64ms, beats 87%\n",
    "\n",
    "\n"
   ]
  }
 ],
 "metadata": {
  "language_info": {
   "name": "python"
  },
  "orig_nbformat": 4
 },
 "nbformat": 4,
 "nbformat_minor": 2
}
