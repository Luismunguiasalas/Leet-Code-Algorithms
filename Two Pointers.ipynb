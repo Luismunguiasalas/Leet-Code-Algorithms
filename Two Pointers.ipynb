{
 "cells": [
  {
   "cell_type": "code",
   "execution_count": null,
   "metadata": {},
   "outputs": [],
   "source": [
    "# 977. Squares of a Sorted Array\n",
    "\n",
    "# Given an integer array nums sorted in non-decreasing order, return an array of the squares of each number sorted in non-decreasing order.\n",
    "\n",
    "class Solution:\n",
    "    def sortedSquares(self, nums: List[int]) -> List[int]:\n",
    "        # use two pointers, one at index = 0 and index = n - 1\n",
    "        # compare each number:\n",
    "        # the greater number will be added and index will be subtracted or incremented\n",
    "        # until indexes cross\n",
    "\n",
    "        left = 0\n",
    "        right = len(nums) - 1\n",
    "        output = []\n",
    "        while left <= right:\n",
    "            if nums[right] ** 2 >= nums[left] ** 2:\n",
    "                output.append(nums[right] ** 2)\n",
    "                right -= 1\n",
    "            else:\n",
    "                output.append(nums[left] ** 2)\n",
    "                left += 1\n",
    "        return output[::-1]\n",
    "      \n",
    "      \n",
    "# time O(n), space O(n)\n",
    "\n",
    "#runtime: 286ms, beats 63%\n",
    "# memory: 16MB, beats 80%"
   ]
  },
  {
   "cell_type": "code",
   "execution_count": null,
   "metadata": {},
   "outputs": [],
   "source": [
    "# 189. Rotate Array\n",
    "# Given an array, rotate the array to the right by k steps, where k is non-negative.\n",
    "\n",
    "# To rotate the array in place, I create the reverse method and use this to reverse the array at key points plus use % modulo to reduce \n",
    "# unnecessary rotations. \n",
    "class Solution:\n",
    "    def rotate(self, nums: List[int], k: int) -> None:\n",
    "        \"\"\"\n",
    "        Do not return anything, modify nums in-place instead.\n",
    "        \"\"\"\n",
    "        nums_len = len(nums)\n",
    "        k %= nums_len\n",
    "\n",
    "        self.reverse(nums, 0, nums_len - 1)\n",
    "        self.reverse(nums, 0, k - 1)\n",
    "        self.reverse(nums, k, nums_len - 1)\n",
    "\n",
    "\n",
    "    def reverse(self, array: list, start: int, end: int) -> None:\n",
    "        while start < end:\n",
    "            array[start], array[end] = array[end], array[start]\n",
    "            start += 1\n",
    "            end -= 1\n",
    "            \n",
    "# time O(n) , space O(1)\n",
    "# runtime: 359ms, beats 61%\n",
    "# memory: 25MB, beats 78% "
   ]
  },
  {
   "cell_type": "code",
   "execution_count": null,
   "metadata": {},
   "outputs": [],
   "source": []
  }
 ],
 "metadata": {
  "kernelspec": {
   "display_name": "base",
   "language": "python",
   "name": "python3"
  },
  "language_info": {
   "name": "python",
   "version": "3.9.13 (main, Aug 25 2022, 18:29:29) \n[Clang 12.0.0 ]"
  },
  "orig_nbformat": 4,
  "vscode": {
   "interpreter": {
    "hash": "40d3a090f54c6569ab1632332b64b2c03c39dcf918b08424e98f38b5ae0af88f"
   }
  }
 },
 "nbformat": 4,
 "nbformat_minor": 2
}
